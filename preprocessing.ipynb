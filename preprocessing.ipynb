{
 "cells": [
  {
   "cell_type": "code",
   "execution_count": 1,
   "id": "1b348c26-1c7b-435d-a7c4-10bc8d7b3c03",
   "metadata": {
    "tags": []
   },
   "outputs": [
    {
     "name": "stderr",
     "output_type": "stream",
     "text": [
      "2023-05-01 10:08:42.521970: I tensorflow/tsl/cuda/cudart_stub.cc:28] Could not find cuda drivers on your machine, GPU will not be used.\n",
      "2023-05-01 10:08:42.567950: I tensorflow/tsl/cuda/cudart_stub.cc:28] Could not find cuda drivers on your machine, GPU will not be used.\n",
      "2023-05-01 10:08:42.568655: I tensorflow/core/platform/cpu_feature_guard.cc:182] This TensorFlow binary is optimized to use available CPU instructions in performance-critical operations.\n",
      "To enable the following instructions: AVX2 FMA, in other operations, rebuild TensorFlow with the appropriate compiler flags.\n",
      "2023-05-01 10:08:43.258775: W tensorflow/compiler/tf2tensorrt/utils/py_utils.cc:38] TF-TRT Warning: Could not find TensorRT\n"
     ]
    }
   ],
   "source": [
    "import pandas as pd\n",
    "import numpy as np\n",
    "import matplotlib.pyplot as plt\n",
    "import seaborn as sns\n",
    "import tensorflow as tf\n",
    "\n",
    "from sklearn import preprocessing\n",
    "\n",
    "sns.set()"
   ]
  },
  {
   "cell_type": "raw",
   "id": "e1caa38b-7b83-4f95-94f7-b4814cd53c14",
   "metadata": {},
   "source": [
    "pre-processing data\n",
    "    * balancing priors \n",
    "    * standardize data\n",
    "    * shuffle data\n",
    "    * split data into train,validation,test"
   ]
  },
  {
   "cell_type": "code",
   "execution_count": 2,
   "id": "93ce90a5-1247-406e-a3b6-1985442a63d7",
   "metadata": {
    "tags": []
   },
   "outputs": [],
   "source": [
    "raw_data = np.loadtxt('./Audiobooks_data.csv',delimiter=',')\n",
    "unscaled_inputs = raw_data[:,1:-1]\n",
    "targets_all = raw_data[:,-1]"
   ]
  },
  {
   "cell_type": "code",
   "execution_count": 3,
   "id": "1a6c9788-0295-4405-b827-53bb67a965ba",
   "metadata": {},
   "outputs": [],
   "source": [
    "#balancing priors\n",
    "num_one_target = int(np.sum(targets_all))\n",
    "zero_target_counter = 0\n",
    "indices_to_remove = []\n",
    "\n",
    "for i in range(targets_all.shape[0]):\n",
    "    if targets_all[i] == 0:\n",
    "        zero_target_counter+= 1\n",
    "        if zero_target_counter > num_one_target:\n",
    "            indices_to_remove.append(i)\n",
    "unscaled_inputs_equal_prior = np.delete(unscaled_inputs,indices_to_remove,axis=0)\n",
    "targets_equal_prior = np.delete(targets_all,indices_to_remove,axis=0)"
   ]
  },
  {
   "cell_type": "code",
   "execution_count": 4,
   "id": "fdb2e872-0f48-4099-921e-11a1f67e838b",
   "metadata": {},
   "outputs": [],
   "source": [
    "#standardize inputs\n",
    "scaled_inputs = preprocessing.scale(unscaled_inputs_equal_prior)"
   ]
  },
  {
   "cell_type": "code",
   "execution_count": 5,
   "id": "175e2022-efcd-4ec6-b437-5200248a41f1",
   "metadata": {},
   "outputs": [],
   "source": [
    "#shuffling\n",
    "shuffled_indices = np.arange(scaled_inputs.shape[0])\n",
    "np.random.shuffle(shuffled_indices)\n",
    "\n",
    "shuffled_inputs = scaled_inputs[shuffled_indices]\n",
    "shuffled_target = targets_equal_prior[shuffled_indices]"
   ]
  },
  {
   "cell_type": "code",
   "execution_count": 10,
   "id": "20b061ae-81fc-45fc-a31e-982b6b5ce019",
   "metadata": {},
   "outputs": [],
   "source": [
    "#splitting\n",
    "sample_count = shuffled_inputs.shape[0]\n",
    "train_samples_count = int(0.7*sample_count)\n",
    "validation_samples_count = int(0.2*sample_count)\n",
    "test_samples_count = sample_count - train_samples_count - validation_samples_count\n",
    "\n",
    "train_inputs = shuffled_inputs[:train_samples_count]\n",
    "train_target = shuffled_target[:train_samples_count]\n",
    "\n",
    "validation_inputs = shuffled_inputs[train_samples_count:train_samples_count+validation_samples_count]\n",
    "validation_target = shuffled_target[train_samples_count:train_samples_count+validation_samples_count]\n",
    "\n",
    "test_inputs = shuffled_inputs[train_samples_count+validation_samples_count:]\n",
    "test_target = shuffled_target[train_samples_count+validation_samples_count:]"
   ]
  },
  {
   "cell_type": "code",
   "execution_count": 7,
   "id": "89a20828-c50a-4f81-a5a2-20541cf350f8",
   "metadata": {},
   "outputs": [],
   "source": [
    "#saving as .npz\n",
    "np.savez('Audiobooks_train_data',inputs=train_inputs,targets = train_target)\n",
    "np.savez('Audiobooks_validation_data',inputs=validation_inputs,targets = validation_target)\n",
    "np.savez('Audiobooks_test_data',inputs=test_inputs,targets = test_target)"
   ]
  },
  {
   "cell_type": "code",
   "execution_count": null,
   "id": "f9fb7167-ccb5-44a4-881b-fcf71eecc0b3",
   "metadata": {},
   "outputs": [],
   "source": []
  }
 ],
 "metadata": {
  "kernelspec": {
   "display_name": "Python 3 (ipykernel)",
   "language": "python",
   "name": "python3"
  },
  "language_info": {
   "codemirror_mode": {
    "name": "ipython",
    "version": 3
   },
   "file_extension": ".py",
   "mimetype": "text/x-python",
   "name": "python",
   "nbconvert_exporter": "python",
   "pygments_lexer": "ipython3",
   "version": "3.10.6"
  }
 },
 "nbformat": 4,
 "nbformat_minor": 5
}
