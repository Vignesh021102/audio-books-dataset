{
 "cells": [
  {
   "cell_type": "code",
   "execution_count": 1,
   "id": "4975aee7-20ff-4666-a7a6-883d1cefb31c",
   "metadata": {
    "tags": []
   },
   "outputs": [
    {
     "name": "stderr",
     "output_type": "stream",
     "text": [
      "2023-05-01 10:52:24.434208: I tensorflow/tsl/cuda/cudart_stub.cc:28] Could not find cuda drivers on your machine, GPU will not be used.\n",
      "2023-05-01 10:52:26.254307: I tensorflow/tsl/cuda/cudart_stub.cc:28] Could not find cuda drivers on your machine, GPU will not be used.\n",
      "2023-05-01 10:52:26.256324: I tensorflow/core/platform/cpu_feature_guard.cc:182] This TensorFlow binary is optimized to use available CPU instructions in performance-critical operations.\n",
      "To enable the following instructions: AVX2 FMA, in other operations, rebuild TensorFlow with the appropriate compiler flags.\n",
      "2023-05-01 10:52:29.859336: W tensorflow/compiler/tf2tensorrt/utils/py_utils.cc:38] TF-TRT Warning: Could not find TensorRT\n"
     ]
    }
   ],
   "source": [
    "import numpy as np\n",
    "import tensorflow as tf"
   ]
  },
  {
   "cell_type": "code",
   "execution_count": 2,
   "id": "620c2bdf-ae32-46b9-866f-c846ef305555",
   "metadata": {
    "tags": []
   },
   "outputs": [],
   "source": [
    "npz = np.load('./Audiobooks_train_data.npz')\n",
    "train_inputs = npz['inputs'].astype(np.float64)\n",
    "train_targets = npz['targets'].astype(np.int64)\n",
    "\n",
    "npz = np.load('./Audiobooks_validation_data.npz')\n",
    "validation_inputs = npz['inputs'].astype(np.float64)\n",
    "validation_targets =  npz['targets'].astype(np.int64)\n",
    "\n",
    "npz = np.load('./Audiobooks_test_data.npz')\n",
    "test_inputs =  npz['inputs'].astype(np.float64)\n",
    "test_targets =  npz['targets'].astype(np.int64)"
   ]
  },
  {
   "cell_type": "code",
   "execution_count": 7,
   "id": "3a8a1506-8b73-4315-b2db-0274832713a4",
   "metadata": {
    "tags": []
   },
   "outputs": [
    {
     "name": "stdout",
     "output_type": "stream",
     "text": [
      "Epoch 1/100\n",
      "36/36 - 1s - loss: 0.5640 - accuracy: 0.7837 - val_loss: 0.4404 - val_accuracy: 0.8613 - 841ms/epoch - 23ms/step\n",
      "Epoch 2/100\n",
      "36/36 - 0s - loss: 0.3809 - accuracy: 0.8779 - val_loss: 0.3391 - val_accuracy: 0.8736 - 74ms/epoch - 2ms/step\n",
      "Epoch 3/100\n",
      "36/36 - 0s - loss: 0.3239 - accuracy: 0.8818 - val_loss: 0.3090 - val_accuracy: 0.8792 - 73ms/epoch - 2ms/step\n",
      "Epoch 4/100\n",
      "36/36 - 0s - loss: 0.3010 - accuracy: 0.8916 - val_loss: 0.2894 - val_accuracy: 0.8837 - 68ms/epoch - 2ms/step\n",
      "Epoch 5/100\n",
      "36/36 - 0s - loss: 0.2880 - accuracy: 0.8949 - val_loss: 0.2816 - val_accuracy: 0.8881 - 71ms/epoch - 2ms/step\n",
      "Epoch 6/100\n",
      "36/36 - 0s - loss: 0.2772 - accuracy: 0.8980 - val_loss: 0.2735 - val_accuracy: 0.8881 - 73ms/epoch - 2ms/step\n",
      "Epoch 7/100\n",
      "36/36 - 0s - loss: 0.2708 - accuracy: 0.8972 - val_loss: 0.2668 - val_accuracy: 0.8915 - 69ms/epoch - 2ms/step\n",
      "Epoch 8/100\n",
      "36/36 - 0s - loss: 0.2638 - accuracy: 0.9008 - val_loss: 0.2600 - val_accuracy: 0.8949 - 67ms/epoch - 2ms/step\n",
      "Epoch 9/100\n",
      "36/36 - 0s - loss: 0.2582 - accuracy: 0.9030 - val_loss: 0.2562 - val_accuracy: 0.8949 - 73ms/epoch - 2ms/step\n",
      "Epoch 10/100\n",
      "36/36 - 0s - loss: 0.2560 - accuracy: 0.9042 - val_loss: 0.2491 - val_accuracy: 0.9004 - 72ms/epoch - 2ms/step\n",
      "Epoch 11/100\n",
      "36/36 - 0s - loss: 0.2530 - accuracy: 0.9030 - val_loss: 0.2490 - val_accuracy: 0.8993 - 69ms/epoch - 2ms/step\n",
      "Epoch 12/100\n",
      "36/36 - 0s - loss: 0.2478 - accuracy: 0.9061 - val_loss: 0.2425 - val_accuracy: 0.8982 - 72ms/epoch - 2ms/step\n",
      "Epoch 13/100\n",
      "36/36 - 0s - loss: 0.2451 - accuracy: 0.9061 - val_loss: 0.2451 - val_accuracy: 0.9016 - 78ms/epoch - 2ms/step\n",
      "Epoch 14/100\n",
      "36/36 - 0s - loss: 0.2444 - accuracy: 0.9070 - val_loss: 0.2408 - val_accuracy: 0.8993 - 73ms/epoch - 2ms/step\n",
      "Epoch 15/100\n",
      "36/36 - 0s - loss: 0.2429 - accuracy: 0.9089 - val_loss: 0.2367 - val_accuracy: 0.9016 - 79ms/epoch - 2ms/step\n",
      "Epoch 16/100\n",
      "36/36 - 0s - loss: 0.2391 - accuracy: 0.9086 - val_loss: 0.2353 - val_accuracy: 0.9027 - 79ms/epoch - 2ms/step\n",
      "Epoch 17/100\n",
      "36/36 - 0s - loss: 0.2393 - accuracy: 0.9086 - val_loss: 0.2305 - val_accuracy: 0.9072 - 75ms/epoch - 2ms/step\n",
      "Epoch 18/100\n",
      "36/36 - 0s - loss: 0.2363 - accuracy: 0.9092 - val_loss: 0.2289 - val_accuracy: 0.9094 - 71ms/epoch - 2ms/step\n",
      "Epoch 19/100\n",
      "36/36 - 0s - loss: 0.2342 - accuracy: 0.9106 - val_loss: 0.2269 - val_accuracy: 0.9060 - 69ms/epoch - 2ms/step\n",
      "Epoch 20/100\n",
      "36/36 - 0s - loss: 0.2338 - accuracy: 0.9111 - val_loss: 0.2272 - val_accuracy: 0.9094 - 71ms/epoch - 2ms/step\n",
      "Epoch 21/100\n",
      "36/36 - 0s - loss: 0.2339 - accuracy: 0.9098 - val_loss: 0.2228 - val_accuracy: 0.9083 - 72ms/epoch - 2ms/step\n",
      "Epoch 22/100\n",
      "36/36 - 0s - loss: 0.2321 - accuracy: 0.9125 - val_loss: 0.2299 - val_accuracy: 0.9072 - 79ms/epoch - 2ms/step\n",
      "Epoch 23/100\n",
      "36/36 - 0s - loss: 0.2332 - accuracy: 0.9106 - val_loss: 0.2256 - val_accuracy: 0.9105 - 77ms/epoch - 2ms/step\n"
     ]
    },
    {
     "data": {
      "text/plain": [
       "<keras.callbacks.History at 0x7f4af5ba49d0>"
      ]
     },
     "execution_count": 7,
     "metadata": {},
     "output_type": "execute_result"
    }
   ],
   "source": [
    "input_size = 10\n",
    "output_size = 2\n",
    "hidden_layer_size = 50\n",
    "batch_size = 100\n",
    "max_epochs  = 100\n",
    "\n",
    "early_stopping = tf.keras.callbacks.EarlyStopping(patience=2)\n",
    "\n",
    "model = tf.keras.Sequential([\n",
    "    tf.keras.layers.Dense(hidden_layer_size,activation = 'relu'),\n",
    "    tf.keras.layers.Dense(hidden_layer_size,activation='relu'),\n",
    "    tf.keras.layers.Dense(output_size,activation='softmax')\n",
    "])\n",
    "model.compile(optimizer='adam',\n",
    "              loss='sparse_categorical_crossentropy',\n",
    "              metrics=['accuracy'])\n",
    "\n",
    "model.fit(train_inputs,\n",
    "          train_targets,\n",
    "          batch_size = batch_size,\n",
    "          epochs = max_epochs,\n",
    "          callbacks=[early_stopping],\n",
    "          validation_data = (validation_inputs,validation_targets),\n",
    "          verbose=2)"
   ]
  },
  {
   "cell_type": "code",
   "execution_count": 8,
   "id": "dffd7920-e933-4358-866b-3046ff683bc1",
   "metadata": {
    "tags": []
   },
   "outputs": [
    {
     "name": "stdout",
     "output_type": "stream",
     "text": [
      "Test:\n",
      "Loss = 0.227\n",
      "Accuracy = 0.912\n"
     ]
    }
   ],
   "source": [
    "(loss,accuracy) = model.evaluate(test_inputs,test_targets,verbose=False)\n",
    "print(f'Test:\\nLoss = {loss:0.3f}\\nAccuracy = {accuracy:0.3f}')"
   ]
  },
  {
   "cell_type": "code",
   "execution_count": 5,
   "id": "d192d681-76a1-459f-a483-02c290ecd3aa",
   "metadata": {
    "tags": []
   },
   "outputs": [
    {
     "name": "stderr",
     "output_type": "stream",
     "text": [
      "WARNING:absl:Found untraced functions such as _update_step_xla while saving (showing 1 of 1). These functions will not be directly callable after loading.\n"
     ]
    },
    {
     "name": "stdout",
     "output_type": "stream",
     "text": [
      "INFO:tensorflow:Assets written to: ./audiobooks_dataset_model/assets\n"
     ]
    },
    {
     "name": "stderr",
     "output_type": "stream",
     "text": [
      "INFO:tensorflow:Assets written to: ./audiobooks_dataset_model/assets\n"
     ]
    }
   ],
   "source": [
    "model.save('./audiobooks_dataset_model')"
   ]
  },
  {
   "cell_type": "code",
   "execution_count": null,
   "id": "cd05c522-56a4-408c-a221-516c88027c06",
   "metadata": {},
   "outputs": [],
   "source": []
  }
 ],
 "metadata": {
  "kernelspec": {
   "display_name": "Python 3 (ipykernel)",
   "language": "python",
   "name": "python3"
  },
  "language_info": {
   "codemirror_mode": {
    "name": "ipython",
    "version": 3
   },
   "file_extension": ".py",
   "mimetype": "text/x-python",
   "name": "python",
   "nbconvert_exporter": "python",
   "pygments_lexer": "ipython3",
   "version": "3.10.6"
  }
 },
 "nbformat": 4,
 "nbformat_minor": 5
}
